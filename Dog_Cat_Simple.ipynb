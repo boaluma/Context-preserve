{
  "nbformat": 4,
  "nbformat_minor": 0,
  "metadata": {
    "colab": {
      "provenance": [],
      "gpuType": "T4",
      "include_colab_link": true
    },
    "kernelspec": {
      "name": "python3",
      "display_name": "Python 3"
    },
    "language_info": {
      "name": "python"
    },
    "accelerator": "GPU"
  },
  "cells": [
    {
      "cell_type": "markdown",
      "metadata": {
        "id": "view-in-github",
        "colab_type": "text"
      },
      "source": [
        "<a href=\"https://colab.research.google.com/github/boaluma/Context-preserve/blob/main/Dog_Cat_Simple.ipynb\" target=\"_parent\"><img src=\"https://colab.research.google.com/assets/colab-badge.svg\" alt=\"Open In Colab\"/></a>"
      ]
    },
    {
      "cell_type": "code",
      "execution_count": null,
      "metadata": {
        "id": "gYj0VFmlcCRz"
      },
      "outputs": [],
      "source": [
        "import torch\n",
        "import torch.nn.functional as F  # Parameterless functions, like (some) activation functions\n",
        "import torchvision.datasets as datasets  # Standard datasets\n",
        "import torchvision.transforms as transforms  # Transformations we can perform on our dataset for augmentation\n",
        "from torch import optim  # For optimizers like SGD, Adam, etc.\n",
        "from torch import nn  # All neural network modules\n",
        "from torch.utils.data import DataLoader\n",
        "from tqdm import tqdm  # For nice progress bar!"
      ]
    },
    {
      "cell_type": "code",
      "source": [
        "class CNN(nn.Module):\n",
        "    def __init__(self):\n",
        "        super().__init__()\n",
        "        self.conv1 = nn.Conv2d(3, 32, kernel_size=(3,3), stride=1, padding=1)\n",
        "        self.act1 = nn.ReLU()\n",
        "        self.pool1 = nn.MaxPool2d(kernel_size=(2, 2))\n",
        "        self.flat = nn.Flatten(-3, -1)\n",
        "        self.fc1 = nn.Linear(43808, 4500)\n",
        "        self.act2 = nn.ReLU()\n",
        "        self.fc2 = nn.Linear(4500, 1)\n",
        "        self.act3 = nn.Sigmoid()\n",
        "    def forward(self, x):\n",
        "        x = self.act1(self.conv1(x))\n",
        "        #print(\"Conv1:\", x.shape)\n",
        "        x = self.pool1(x)\n",
        "        #print(\"Pooling1:\", x.shape)\n",
        "        x = self.flat(x)\n",
        "        #print(\"Flattened:\", x.shape)\n",
        "        x = self.fc1(x)\n",
        "        x = self.act1(x)\n",
        "        #print(\"FC1:\", x.shape)\n",
        "        x = self.fc2(x)\n",
        "        #x = self.act3(x)\n",
        "        #print(\"Output:\", x.shape)\n",
        "        return x"
      ],
      "metadata": {
        "id": "RW_Ui4Q_glfh"
      },
      "execution_count": null,
      "outputs": []
    },
    {
      "cell_type": "markdown",
      "source": [
        "Setting the device"
      ],
      "metadata": {
        "id": "1vyOdoMTcZSC"
      }
    },
    {
      "cell_type": "code",
      "source": [
        "device = torch.device(\"cuda\" if torch.cuda.is_available() else \"cpu\")"
      ],
      "metadata": {
        "id": "Fj0benhUcbcH"
      },
      "execution_count": null,
      "outputs": []
    },
    {
      "cell_type": "markdown",
      "source": [
        "Initialize the network"
      ],
      "metadata": {
        "id": "anZiB-fDcyRw"
      }
    },
    {
      "cell_type": "code",
      "source": [
        "model = CNN().to(device)"
      ],
      "metadata": {
        "id": "RnfaEV2Wc3t6"
      },
      "execution_count": null,
      "outputs": []
    },
    {
      "cell_type": "markdown",
      "source": [
        "Hyper-Parameters"
      ],
      "metadata": {
        "id": "VMAxwQh0cm14"
      }
    },
    {
      "cell_type": "code",
      "source": [
        "in_channels = 3\n",
        "num_classes = 2\n",
        "learning_rate = 3e-4 # karpathy's constant\n",
        "batch_size = 4\n",
        "num_epochs = 3"
      ],
      "metadata": {
        "id": "7wGYKNwico1X"
      },
      "execution_count": null,
      "outputs": []
    },
    {
      "cell_type": "markdown",
      "source": [
        "Load the Data"
      ],
      "metadata": {
        "id": "6z3dzO44crhg"
      }
    },
    {
      "cell_type": "code",
      "source": [
        "trans_train =  transforms.Compose([transforms.Resize(75),\n",
        "                                       transforms.RandomRotation(30),\n",
        "                                       transforms.RandomResizedCrop(75),\n",
        "                                       transforms.RandomHorizontalFlip(),\n",
        "                                       transforms.ToTensor()])\n",
        "\n",
        "trans_valid = transforms.Compose([transforms.Resize(75),\n",
        "                                      transforms.CenterCrop(75),\n",
        "                                      transforms.ToTensor()])\n",
        "\n",
        "data_dir = '/content/drive/MyDrive/Kaggle Datasets/Cat Dog'\n",
        "\n",
        "train_dataset = datasets.ImageFolder(data_dir + '/train',\n",
        "                                  transform=trans_train)\n",
        "test_dataset = datasets.ImageFolder(data_dir + '/test',\n",
        "                                 transform=trans_valid)\n",
        "train_loader = DataLoader(dataset=train_dataset, batch_size=batch_size, shuffle=True)\n",
        "test_loader = DataLoader(dataset=test_dataset, batch_size=batch_size, shuffle=False)\n"
      ],
      "metadata": {
        "id": "JEaw-AYMcudq"
      },
      "execution_count": null,
      "outputs": []
    },
    {
      "cell_type": "markdown",
      "source": [
        "Loss and optimizer"
      ],
      "metadata": {
        "id": "ydEVyuJPc5-o"
      }
    },
    {
      "cell_type": "code",
      "source": [
        "criterion = nn.BCEWithLogitsLoss()\n",
        "optimizer = optim.Adam(model.parameters(), lr=learning_rate)"
      ],
      "metadata": {
        "id": "fpveas19dC4i"
      },
      "execution_count": null,
      "outputs": []
    },
    {
      "cell_type": "markdown",
      "source": [
        "\n",
        "Train Network"
      ],
      "metadata": {
        "id": "QAnOdKAVdE-S"
      }
    },
    {
      "cell_type": "code",
      "source": [
        "for epoch in range(num_epochs):\n",
        "    for batch_idx, (data, targets) in enumerate(tqdm(train_loader)):\n",
        "        # Get data to cuda if possible\n",
        "        data = data.to(device=device)\n",
        "        targets = targets.to(device=device)\n",
        "\n",
        "        # forward\n",
        "        scores = model(data)\n",
        "        #print(scores.shape, targets.shape)\n",
        "        loss = criterion(scores, targets.reshape(-1,1).float())\n",
        "\n",
        "        # backward\n",
        "        optimizer.zero_grad()\n",
        "        loss.backward()\n",
        "\n",
        "        # gradient descent or adam step\n",
        "        optimizer.step()\n",
        "\n",
        "# Check accuracy on training & test to see how good our model\n",
        "def check_accuracy(loader, model):\n",
        "    num_correct = 0\n",
        "    num_samples = 0\n",
        "    model.eval()\n",
        "\n",
        "    with torch.no_grad():\n",
        "        for x, y in loader:\n",
        "            x = x.to(device=device)\n",
        "            y = y.to(device=device)\n",
        "\n",
        "            scores = model(x)\n",
        "            _, predictions = scores.max(1)\n",
        "            num_correct += (predictions == y).sum()\n",
        "            num_samples += predictions.size(0)\n",
        "\n",
        "    model.train()\n",
        "    return num_correct / num_samples\n",
        "\n",
        "\n"
      ],
      "metadata": {
        "colab": {
          "base_uri": "https://localhost:8080/"
        },
        "id": "TbfPh73Sc_DY",
        "outputId": "ff461da5-c197-413b-823b-7d6d30d2b455"
      },
      "execution_count": null,
      "outputs": [
        {
          "output_type": "stream",
          "name": "stderr",
          "text": [
            "100%|██████████| 140/140 [02:08<00:00,  1.09it/s]\n",
            "100%|██████████| 140/140 [00:11<00:00, 12.42it/s]\n",
            "100%|██████████| 140/140 [00:11<00:00, 12.35it/s]\n"
          ]
        }
      ]
    },
    {
      "cell_type": "code",
      "source": [
        "print(f\"Accuracy on training set: {check_accuracy(train_loader, model)*100:.2f}\")\n",
        "print(f\"Accuracy on test set: {check_accuracy(test_loader, model)*100:.2f}\")"
      ],
      "metadata": {
        "colab": {
          "base_uri": "https://localhost:8080/"
        },
        "id": "9NlrUylHdMnC",
        "outputId": "9417aa0c-6bf2-40c2-843e-8b6d4e0dd54d"
      },
      "execution_count": null,
      "outputs": [
        {
          "output_type": "stream",
          "name": "stdout",
          "text": [
            "Accuracy on training set: 50.09\n",
            "Accuracy on test set: 50.00\n"
          ]
        }
      ]
    }
  ]
}